{
 "cells": [
  {
   "cell_type": "markdown",
   "metadata": {},
   "source": [
    "# Лабораторная №1\n",
    "## Задание\n",
    "\n",
    "Имеетсе выборка некоторой случайной величины ξ в виде интервального статистического ряда (табл.).\n",
    "\n",
    "а) Построить гистограмму и график эмперической функции распределения F<sub>n</sub>(x)\n",
    "\n",
    "б) Вычислить выборочные: среднее, дисперсию, медиану, коэффициент вариации, коэффициент асимметрии, эксцесс\n",
    "\n",
    "в) Добавить искусственно к данным большую флуктуацию (порядка 1000). Как изменятся вычесленные параметры? Почему?\n",
    "\n",
    "**Вариант 17:**\n",
    "\n",
    "| **Интервал**   | (140;145)  | (145;150)  | (150;155)  | (155;160)  | (160;165)  |\n",
    "|:--------------:|:----------:|:----------:|:----------:|:----------:|:----------:|\n",
    "|  **Частота**   |     45     |     105    |    100     |     40     |     10     |"
   ]
  },
  {
   "cell_type": "code",
   "execution_count": 35,
   "metadata": {},
   "outputs": [],
   "source": [
    "import matplotlib.pyplot as plt\n",
    "%matplotlib inline"
   ]
  },
  {
   "cell_type": "code",
   "execution_count": 66,
   "metadata": {},
   "outputs": [],
   "source": [
    "amounts = [45, 105, 100, 40, 10]\n",
    "intervals = [(140,145), (145,150), (150,155), (155,160), (160,165)]"
   ]
  },
  {
   "cell_type": "code",
   "execution_count": 67,
   "metadata": {},
   "outputs": [],
   "source": [
    "def intervals2str(intervals):\n",
    "    return [str(interval) for interval in intervals]"
   ]
  },
  {
   "cell_type": "code",
   "execution_count": 68,
   "metadata": {},
   "outputs": [],
   "source": [
    "step = intervals[0][1]-intervals[0][0]"
   ]
  },
  {
   "cell_type": "code",
   "execution_count": 71,
   "metadata": {},
   "outputs": [],
   "source": [
    "total_amount = sum(amounts)\n",
    "proportion_amounts = [amount/total_amount for amount in amounts]"
   ]
  },
  {
   "cell_type": "code",
   "execution_count": 72,
   "metadata": {},
   "outputs": [
    {
     "data": {
      "text/plain": [
       "<BarContainer object of 5 artists>"
      ]
     },
     "execution_count": 72,
     "metadata": {},
     "output_type": "execute_result"
    },
    {
     "data": {
      "image/png": "[encoded data removed]",
      "text/plain": [
       "<Figure size 600x400 with 1 Axes>"
      ]
     },
     "metadata": {},
     "output_type": "display_data"
    }
   ],
   "source": [
    "fig = plt.figure(figsize=(6,4))\n",
    "plt.title('Hist')\n",
    "plt.bar(intervals2str(intervals),proportion_amounts)"
   ]
  },
  {
   "cell_type": "code",
   "execution_count": 60,
   "metadata": {},
   "outputs": [],
   "source": [
    "def average(intervals, amounts) -> float:\n",
    "    N = sum(amounts)\n",
    "    result = 0.0\n",
    "    for i in range(len(amounts)):\n",
    "        dz = (intervals[i][0]+intervals[i][1])/2\n",
    "        result += dz * amounts[i] / N\n",
    "    return result"
   ]
  },
  {
   "cell_type": "code",
   "execution_count": 64,
   "metadata": {},
   "outputs": [
    {
     "data": {
      "text/plain": [
       "[45, 105, 100, 40, 10]"
      ]
     },
     "execution_count": 64,
     "metadata": {},
     "output_type": "execute_result"
    }
   ],
   "source": [
    "values"
   ]
  },
  {
   "cell_type": "code",
   "execution_count": 63,
   "metadata": {},
   "outputs": [
    {
     "data": {
      "text/plain": [
       "150.25"
      ]
     },
     "execution_count": 63,
     "metadata": {},
     "output_type": "execute_result"
    }
   ],
   "source": [
    "average(intervals, values)"
   ]
  },
  {
   "cell_type": "code",
   "execution_count": null,
   "metadata": {},
   "outputs": [],
   "source": [
    "def dispersion()"
   ]
  }
 ],
 "metadata": {
  "kernelspec": {
   "display_name": "venv",
   "language": "python",
   "name": "venv"
  },
  "language_info": {
   "codemirror_mode": {
    "name": "ipython",
    "version": 3
   },
   "file_extension": ".py",
   "mimetype": "text/x-python",
   "name": "python",
   "nbconvert_exporter": "python",
   "pygments_lexer": "ipython3",
   "version": "3.10.6"
  }
 },
 "nbformat": 4,
 "nbformat_minor": 2
}
