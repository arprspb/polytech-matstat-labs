{
 "cells": [
  {
   "cell_type": "markdown",
   "metadata": {},
   "source": [
    "# Лабораторная №1\n",
    "## Задание\n",
    "\n",
    "Имеетсе выборка некоторой случайной величины ξ в виде интервального статистического ряда (табл.).\n",
    "\n",
    "а) Построить гистограмму и график эмперической функции распределения F<sub>n</sub>(x)\n",
    "\n",
    "б) Вычислить выборочные: среднее, дисперсию, медиану, коэффициент вариации, коэффициент асимметрии, эксцесс\n",
    "\n",
    "в) Добавить искусственно к данным большую флуктуацию (порядка 1000). Как изменятся вычесленные параметры? Почему?\n",
    "\n",
    "**Вариант 17:**\n",
    "\n",
    "| **Интервал**   | (140;145)  | (145;150)  | (150;155)  | (155;160)  | (160;165)  |\n",
    "|:--------------:|:----------:|:----------:|:----------:|:----------:|:----------:|\n",
    "|  **Частота**   |     45     |     105    |    100     |     40     |     10     |"
   ]
  },
  {
   "cell_type": "code",
   "execution_count": 1,
   "metadata": {},
   "outputs": [],
   "source": [
    "import matplotlib.pyplot as plt\n",
    "%matplotlib inline"
   ]
  },
  {
   "cell_type": "code",
   "execution_count": 4,
   "metadata": {},
   "outputs": [],
   "source": [
    "amounts = [45, 105, 100, 40, 10]\n",
    "intervals = [(140,145), (145,150), (150,155), (155,160), (160,165)]"
   ]
  },
  {
   "cell_type": "code",
   "execution_count": 46,
   "metadata": {},
   "outputs": [],
   "source": [
    "def intervals2str(intervals):\n",
    "    return [str(interval) for interval in intervals]"
   ]
  },
  {
   "cell_type": "code",
   "execution_count": 63,
   "metadata": {},
   "outputs": [],
   "source": [
    "def plot_hist(intervals, amounts): #emperical distribution function plot\n",
    "    total_amount = sum(amounts)\n",
    "    proportion_amounts = [amount/total_amount for amount in amounts]\n",
    "    step = intervals[0][1]-intervals[0][0]\n",
    "    hist_amounts = [amount/step for amount in proportion_amounts]\n",
    "\n",
    "    fig = plt.figure(figsize=(6,4))\n",
    "    plt.title('Гистограмма')\n",
    "    for interval, hist_value in zip(intervals, hist_amounts):\n",
    "        plt.vlines(x = interval[0], ymin = 0, ymax = hist_value)\n",
    "        plt.vlines(x = interval[1], ymin = 0, ymax = hist_value)\n",
    "        plt.hlines(y=hist_value, xmin = interval[0], xmax= interval[1])\n",
    "        \n",
    "    plt.plot()\n",
    "\n",
    "    # fig = plt.figure(figsize=(6,4))\n",
    "    # plt.title('Гистограмма')\n",
    "    # plt.bar(intervals2str(intervals),hist_amounts,width=1)\n",
    "    # plt.plot()"
   ]
  },
  {
   "cell_type": "code",
   "execution_count": 64,
   "metadata": {},
   "outputs": [
    {
     "data": {
      "image/png": "[encoded data removed]",
      "text/plain": [
       "<Figure size 600x400 with 1 Axes>"
      ]
     },
     "metadata": {},
     "output_type": "display_data"
    }
   ],
   "source": [
    "plot_hist(intervals, amounts)"
   ]
  },
  {
   "cell_type": "code",
   "execution_count": 16,
   "metadata": {},
   "outputs": [],
   "source": [
    "from numpy import cumsum\n",
    "def plot_esdf(intervals, amounts): #emperical distribution function plot\n",
    "    total_amount = sum(amounts)\n",
    "    proportion_amounts = [amount/total_amount for amount in amounts]\n",
    "    empirical_distribution_function = list(cumsum(proportion_amounts))\n",
    "\n",
    "    fig = plt.figure(figsize=(6,4))\n",
    "    plt.title('Эмперическая функция распределения')\n",
    "    step = intervals[0][1] - intervals[0][0]\n",
    "    intervals_with_additions = [(intervals[0][0]-step, intervals[0][1]-step)] + intervals + [(intervals[-1][0]+step, intervals[-1][1]+step)]\n",
    "    empirical_distribution_function.insert(0, 0)\n",
    "    empirical_distribution_function.append(1)\n",
    "\n",
    "    for interval, distribution_value in zip(intervals_with_additions, empirical_distribution_function):\n",
    "        plt.vlines(x = interval[0], ymin = 0, ymax = distribution_value, linestyles='dotted')\n",
    "        plt.vlines(x = interval[1], ymin = 0, ymax = distribution_value, linestyles='dotted')\n",
    "        plt.hlines(y=distribution_value, xmin = interval[0], xmax= interval[1])\n",
    "\n",
    "    plt.plot()"
   ]
  },
  {
   "cell_type": "code",
   "execution_count": 17,
   "metadata": {},
   "outputs": [
    {
     "ename": "NameError",
     "evalue": "name 'plt' is not defined",
     "output_type": "error",
     "traceback": [
      "\u001b[1;31m---------------------------------------------------------------------------\u001b[0m",
      "\u001b[1;31mNameError\u001b[0m                                 Traceback (most recent call last)",
      "Cell \u001b[1;32mIn[17], line 1\u001b[0m\n\u001b[1;32m----> 1\u001b[0m \u001b[43mplot_esdf\u001b[49m\u001b[43m(\u001b[49m\u001b[43mintervals\u001b[49m\u001b[43m,\u001b[49m\u001b[43m \u001b[49m\u001b[43mamounts\u001b[49m\u001b[43m)\u001b[49m\n",
      "Cell \u001b[1;32mIn[16], line 7\u001b[0m, in \u001b[0;36mplot_esdf\u001b[1;34m(intervals, amounts)\u001b[0m\n\u001b[0;32m      4\u001b[0m proportion_amounts \u001b[38;5;241m=\u001b[39m [amount\u001b[38;5;241m/\u001b[39mtotal_amount \u001b[38;5;28;01mfor\u001b[39;00m amount \u001b[38;5;129;01min\u001b[39;00m amounts]\n\u001b[0;32m      5\u001b[0m empirical_distribution_function \u001b[38;5;241m=\u001b[39m \u001b[38;5;28mlist\u001b[39m(cumsum(proportion_amounts))\n\u001b[1;32m----> 7\u001b[0m fig \u001b[38;5;241m=\u001b[39m \u001b[43mplt\u001b[49m\u001b[38;5;241m.\u001b[39mfigure(figsize\u001b[38;5;241m=\u001b[39m(\u001b[38;5;241m6\u001b[39m,\u001b[38;5;241m4\u001b[39m))\n\u001b[0;32m      8\u001b[0m plt\u001b[38;5;241m.\u001b[39mtitle(\u001b[38;5;124m'\u001b[39m\u001b[38;5;124mЭмперическая функция распределения\u001b[39m\u001b[38;5;124m'\u001b[39m)\n\u001b[0;32m      9\u001b[0m step \u001b[38;5;241m=\u001b[39m intervals[\u001b[38;5;241m0\u001b[39m][\u001b[38;5;241m1\u001b[39m] \u001b[38;5;241m-\u001b[39m intervals[\u001b[38;5;241m0\u001b[39m][\u001b[38;5;241m0\u001b[39m]\n",
      "\u001b[1;31mNameError\u001b[0m: name 'plt' is not defined"
     ]
    }
   ],
   "source": [
    "plot_esdf(intervals, amounts)"
   ]
  },
  {
   "cell_type": "code",
   "execution_count": 5,
   "metadata": {},
   "outputs": [],
   "source": [
    "def average(intervals, amounts) -> float:\n",
    "    N = sum(amounts)\n",
    "    result = 0.0\n",
    "    for i in range(len(amounts)):\n",
    "        dz = (intervals[i][0]+intervals[i][1])/2\n",
    "        result += dz * amounts[i] / N\n",
    "    return result"
   ]
  },
  {
   "cell_type": "code",
   "execution_count": 6,
   "metadata": {},
   "outputs": [
    {
     "data": {
      "text/plain": [
       "150.25"
      ]
     },
     "execution_count": 6,
     "metadata": {},
     "output_type": "execute_result"
    }
   ],
   "source": [
    "average(intervals, amounts)"
   ]
  },
  {
   "cell_type": "code",
   "execution_count": 7,
   "metadata": {},
   "outputs": [],
   "source": [
    "def dispersion(intervals, amounts) -> float:\n",
    "    N = sum(amounts)\n",
    "    result = 0.0\n",
    "    avg = average(intervals, amounts)\n",
    "    for i in range(len(amounts)):\n",
    "        dz = (intervals[i][0]+intervals[i][1])/2\n",
    "        result += (dz-avg)*(dz-avg) * amounts[i] / N\n",
    "    return result"
   ]
  },
  {
   "cell_type": "code",
   "execution_count": 20,
   "metadata": {},
   "outputs": [
    {
     "data": {
      "text/plain": [
       "25.354166666666664"
      ]
     },
     "execution_count": 20,
     "metadata": {},
     "output_type": "execute_result"
    }
   ],
   "source": [
    "dispersion(intervals, amounts)"
   ]
  },
  {
   "cell_type": "code",
   "execution_count": 12,
   "metadata": {},
   "outputs": [],
   "source": [
    "def dispersion_fixed(intervals, amounts):\n",
    "    N = len(amounts)\n",
    "    return N / (N-1) * dispersion(intervals, amounts)"
   ]
  },
  {
   "cell_type": "code",
   "execution_count": 13,
   "metadata": {},
   "outputs": [
    {
     "data": {
      "text/plain": [
       "31.69270833333333"
      ]
     },
     "execution_count": 13,
     "metadata": {},
     "output_type": "execute_result"
    }
   ],
   "source": [
    "dispersion_fixed(intervals, amounts)"
   ]
  },
  {
   "cell_type": "code",
   "execution_count": null,
   "metadata": {},
   "outputs": [],
   "source": [
    "# медиана!!"
   ]
  },
  {
   "cell_type": "code",
   "execution_count": 14,
   "metadata": {},
   "outputs": [],
   "source": [
    "from math import sqrt\n",
    "def coeff_of_variation(intervals, amounts):\n",
    "    S2n = dispersion(intervals, amounts)\n",
    "    avg = average(intervals, amounts)\n",
    "    return sqrt(S2n)/avg"
   ]
  },
  {
   "cell_type": "code",
   "execution_count": 15,
   "metadata": {},
   "outputs": [
    {
     "data": {
      "text/plain": [
       "0.03351275948978545"
      ]
     },
     "execution_count": 15,
     "metadata": {},
     "output_type": "execute_result"
    }
   ],
   "source": [
    "coeff_of_variation(intervals, amounts)"
   ]
  },
  {
   "cell_type": "code",
   "execution_count": null,
   "metadata": {},
   "outputs": [],
   "source": []
  }
 ],
 "metadata": {
  "kernelspec": {
   "display_name": "venv",
   "language": "python",
   "name": "venv"
  },
  "language_info": {
   "codemirror_mode": {
    "name": "ipython",
    "version": 3
   },
   "file_extension": ".py",
   "mimetype": "text/x-python",
   "name": "python",
   "nbconvert_exporter": "python",
   "pygments_lexer": "ipython3",
   "version": "3.10.6"
  }
 },
 "nbformat": 4,
 "nbformat_minor": 2
}
