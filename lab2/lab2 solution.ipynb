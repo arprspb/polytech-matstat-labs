{
 "cells": [
  {
   "cell_type": "markdown",
   "metadata": {},
   "source": [
    "# Лабораторная №1\n",
    "\n",
    "## Задание\n",
    "  1) Сгенерировать выборки для разных распределений и посчитать доверительные интервалы для них. Распределения: нормальное, бернулли, пуассона, экспоненциальное. Сделать с группировкой и без.\n",
    "  2) Построить ядерную оценку для `N(3, 5)` с прямоугольным и гауссовским ядром (за h принять $h_{opt}$). То же самое сделать для `uniform[3, 5]`"
   ]
  },
  {
   "cell_type": "code",
   "execution_count": 291,
   "metadata": {},
   "outputs": [],
   "source": [
    "import matplotlib.pyplot as plt\n",
    "import numpy as np"
   ]
  },
  {
   "cell_type": "markdown",
   "metadata": {},
   "source": [
    "# Решение\n",
    "## Часть 1. Генерация выборок и доверительные интервалы\n",
    "\n",
    "Сгенерировать выборки для разных распределений и посчитать доверительные интервалы для них. Распределения: нормальное, бернулли, пуассона, экспоненциальное."
   ]
  },
  {
   "cell_type": "code",
   "execution_count": 17,
   "metadata": {},
   "outputs": [],
   "source": [
    "from scipy.stats import bernoulli, poisson, norm, expon\n",
    "from scipy.stats import t, chi2\n",
    "from numpy import sqrt"
   ]
  },
  {
   "cell_type": "code",
   "execution_count": 18,
   "metadata": {},
   "outputs": [],
   "source": [
    "alpha = 0.05"
   ]
  },
  {
   "cell_type": "markdown",
   "metadata": {},
   "source": [
    "### Нормальное распределени"
   ]
  },
  {
   "cell_type": "markdown",
   "metadata": {},
   "source": [
    "Без группирования\n",
    "\n",
    "Выборку генерировать размера $n = 200$"
   ]
  },
  {
   "cell_type": "code",
   "execution_count": 345,
   "metadata": {},
   "outputs": [],
   "source": [
    "mean = 0\n",
    "std_dev = 1\n",
    "n = 200\n",
    "normal_sample = norm.rvs(loc=mean, scale=std_dev, size=n)"
   ]
  },
  {
   "cell_type": "code",
   "execution_count": 346,
   "metadata": {},
   "outputs": [
    {
     "data": {
      "image/png": "[encoded data removed]",
      "text/plain": [
       "<Figure size 300x200 with 1 Axes>"
      ]
     },
     "metadata": {},
     "output_type": "display_data"
    }
   ],
   "source": [
    "plt.figure(figsize=(3, 2))\n",
    "plt.hist(normal_sample, bins=20)\n",
    "plt.show()"
   ]
  },
  {
   "cell_type": "markdown",
   "metadata": {},
   "source": [
    "#### Доверительный интервал для M"
   ]
  },
  {
   "cell_type": "code",
   "execution_count": 347,
   "metadata": {},
   "outputs": [],
   "source": [
    "sample_std  = normal_sample.std()\n",
    "sample_M = normal_sample.mean()"
   ]
  },
  {
   "cell_type": "code",
   "execution_count": 348,
   "metadata": {},
   "outputs": [],
   "source": [
    "t_quantile = t.ppf(1 - alpha / 2, n - 1)"
   ]
  },
  {
   "cell_type": "code",
   "execution_count": 349,
   "metadata": {},
   "outputs": [],
   "source": [
    "left_M =  sample_M - t_quantile  * sample_std / sqrt(n)\n",
    "right_M =  sample_M + t_quantile * sample_std / sqrt(n)"
   ]
  },
  {
   "cell_type": "code",
   "execution_count": 350,
   "metadata": {},
   "outputs": [
    {
     "data": {
      "image/png": "[encoded data removed]",
      "text/plain": [
       "<Figure size 300x200 with 1 Axes>"
      ]
     },
     "metadata": {},
     "output_type": "display_data"
    },
    {
     "name": "stdout",
     "output_type": "stream",
     "text": [
      "P(-0.032 <= M <= 0.242) = 0.95\n"
     ]
    }
   ],
   "source": [
    "plt.figure(figsize=(3, 2))\n",
    "hist_values = plt.hist(normal_sample, bins=20)[0]\n",
    "plt.vlines([left_M, right_M], ymin=0, ymax=max(hist_values), colors='red')\n",
    "plt.show()\n",
    "\n",
    "print(\"P({:.3f} <= M <= {:.3f}) = {}\".format(left_M, right_M, 1 -alpha))"
   ]
  },
  {
   "cell_type": "markdown",
   "metadata": {},
   "source": [
    "#### Доверительный интервал для $\\sigma^2$"
   ]
  },
  {
   "cell_type": "markdown",
   "metadata": {},
   "source": [
    "Рассчитываем критические значения хи-квадрат для нижней и верхней границ доверительного интервала"
   ]
  },
  {
   "cell_type": "code",
   "execution_count": 351,
   "metadata": {},
   "outputs": [],
   "source": [
    "lower_chi_square = chi2.ppf(1 - alpha / 2, n - 1)\n",
    "upper_chi_square = chi2.ppf(alpha / 2, n - 1)"
   ]
  },
  {
   "cell_type": "markdown",
   "metadata": {},
   "source": [
    "Рассчитываем интервал"
   ]
  },
  {
   "cell_type": "code",
   "execution_count": 352,
   "metadata": {},
   "outputs": [],
   "source": [
    "lower_limit = ((n - 1) / lower_chi_square) * sample_std**2\n",
    "upper_limit = ((n - 1) / upper_chi_square) * sample_std**2"
   ]
  },
  {
   "cell_type": "code",
   "execution_count": 353,
   "metadata": {},
   "outputs": [
    {
     "name": "stdout",
     "output_type": "stream",
     "text": [
      "P(0.800 <= sigma^2 <= 1.186) = 0.95\n"
     ]
    }
   ],
   "source": [
    "print(\"P({:.3f} <= sigma^2 <= {:.3f}) = {}\".format(lower_limit, upper_limit, 1 -alpha))"
   ]
  },
  {
   "cell_type": "markdown",
   "metadata": {},
   "source": [
    "#### С группировкой\n",
    "За k принять $k = [log_2200] + 1 \\approx 8$"
   ]
  },
  {
   "cell_type": "code",
   "execution_count": 354,
   "metadata": {},
   "outputs": [],
   "source": [
    "k = 8\n"
   ]
  },
  {
   "cell_type": "code",
   "execution_count": 355,
   "metadata": {},
   "outputs": [],
   "source": [
    "\n",
    "def group(sample, k = 8):\n",
    "    sample_max = int(sample.max())+1\n",
    "    sample_min = int(sample.min())-1\n",
    "    width = sample_max - sample_min\n",
    "    window = width/k\n",
    "    groped_sample = []\n",
    "    intervals = []\n",
    "    for i in range(k):\n",
    "        counter = 0\n",
    "        for elem in sample:\n",
    "            if elem >= sample_min + window*i and elem < sample_min + window*(i+1):\n",
    "                counter += 1\n",
    "        intervals.append([sample_min + window*i, sample_min + window*(i+1)])\n",
    "        groped_sample.append(counter)\n",
    "    return groped_sample, intervals"
   ]
  },
  {
   "cell_type": "code",
   "execution_count": 356,
   "metadata": {},
   "outputs": [],
   "source": [
    "amounts, intervals = group(normal_sample)"
   ]
  },
  {
   "cell_type": "code",
   "execution_count": 357,
   "metadata": {},
   "outputs": [],
   "source": [
    "def dispersion(intervals, amounts):\n",
    "    N = sum(amounts)\n",
    "    result = 0.0\n",
    "    avg = average(intervals, amounts)\n",
    "    for i in range(len(amounts)):\n",
    "        dz = (intervals[i][0]+intervals[i][1])/2\n",
    "        result += (dz-avg)*(dz-avg) * amounts[i] / N\n",
    "    return result"
   ]
  },
  {
   "cell_type": "code",
   "execution_count": 358,
   "metadata": {},
   "outputs": [],
   "source": [
    "def average(intervals, amounts):\n",
    "    N = sum(amounts)\n",
    "    result = 0.0\n",
    "    for i in range(len(amounts)):\n",
    "        dz = (intervals[i][0]+intervals[i][1])/2\n",
    "        result += dz * amounts[i] / N\n",
    "    return result"
   ]
  },
  {
   "cell_type": "code",
   "execution_count": 359,
   "metadata": {},
   "outputs": [],
   "source": [
    "grouped_std  = sqrt(dispersion(intervals, amounts))\n",
    "grouped_M = average(intervals, amounts)"
   ]
  },
  {
   "cell_type": "code",
   "execution_count": 360,
   "metadata": {},
   "outputs": [],
   "source": [
    "t_quantile = t.ppf(1 - alpha / 2, k - 1)"
   ]
  },
  {
   "cell_type": "code",
   "execution_count": 361,
   "metadata": {},
   "outputs": [],
   "source": [
    "left_M =  grouped_M - t_quantile  * grouped_std / sqrt(k)\n",
    "right_M =  grouped_M + t_quantile * grouped_std / sqrt(k)"
   ]
  },
  {
   "cell_type": "code",
   "execution_count": 362,
   "metadata": {},
   "outputs": [
    {
     "name": "stdout",
     "output_type": "stream",
     "text": [
      "P(-0.706 <= M <= 0.954) = 0.95\n"
     ]
    }
   ],
   "source": [
    "print(\"P({:.3f} <= M <= {:.3f}) = {}\".format(left_M, right_M, 1 -alpha))"
   ]
  },
  {
   "cell_type": "markdown",
   "metadata": {},
   "source": [
    "Доверительный интервал для сигма квадрат"
   ]
  },
  {
   "cell_type": "code",
   "execution_count": 363,
   "metadata": {},
   "outputs": [],
   "source": [
    "lower_chi_square = chi2.ppf(1 - alpha / 2, k - 1)\n",
    "upper_chi_square = chi2.ppf(alpha / 2, k - 1)"
   ]
  },
  {
   "cell_type": "code",
   "execution_count": 364,
   "metadata": {},
   "outputs": [],
   "source": [
    "lower_limit = ((k - 1) / lower_chi_square) * grouped_std**2\n",
    "upper_limit = ((k - 1) / upper_chi_square) * grouped_std**2"
   ]
  },
  {
   "cell_type": "code",
   "execution_count": 365,
   "metadata": {},
   "outputs": [
    {
     "name": "stdout",
     "output_type": "stream",
     "text": [
      "P(0.431 <= sigma^2 <= 4.084) = 0.95\n"
     ]
    }
   ],
   "source": [
    "print(\"P({:.3f} <= sigma^2 <= {:.3f}) = {}\".format(lower_limit, upper_limit, 1 -alpha))"
   ]
  },
  {
   "cell_type": "markdown",
   "metadata": {},
   "source": [
    "### Распределение Бернулли"
   ]
  },
  {
   "cell_type": "code",
   "execution_count": 28,
   "metadata": {},
   "outputs": [],
   "source": [
    "p_param = 0.3\n",
    "n = 200\n",
    "bernoulli_sample = bernoulli.rvs(p=p_param, size=n)"
   ]
  },
  {
   "cell_type": "code",
   "execution_count": 29,
   "metadata": {},
   "outputs": [],
   "source": [
    "def get_bernoulli_intervals(n, m, alpha):\n",
    "    mu = norm.ppf(1-alpha/2)\n",
    "    lower_limit = m/n - mu * sqrt(m * (1 - m/n) )/ n\n",
    "    upper_limit = m/n + mu * sqrt(m * (1 - m/n) )/ n\n",
    "    return lower_limit, upper_limit"
   ]
  },
  {
   "cell_type": "code",
   "execution_count": 30,
   "metadata": {},
   "outputs": [
    {
     "name": "stdout",
     "output_type": "stream",
     "text": [
      "P(0.236 <= P <= 0.364) = 0.95\n"
     ]
    }
   ],
   "source": [
    "m = 0.3*200\n",
    "lower_limit, upper_limit = get_bernoulli_intervals(n, m, alpha)\n",
    "print(\"P({:.3f} <= P <= {:.3f}) = {}\".format(lower_limit, upper_limit, 1 -alpha))"
   ]
  },
  {
   "cell_type": "markdown",
   "metadata": {},
   "source": [
    "Определение доверительного интервала для распределения Бернулли при малых размерах выборки"
   ]
  },
  {
   "cell_type": "code",
   "execution_count": 31,
   "metadata": {},
   "outputs": [],
   "source": [
    "p_param = 0.3\n",
    "n = 50\n",
    "m = 0.3*n\n",
    "bernoulli_sample = bernoulli.rvs(p=p_param, size=n)"
   ]
  },
  {
   "cell_type": "code",
   "execution_count": 32,
   "metadata": {},
   "outputs": [],
   "source": [
    "def get_bernoulli_intervals_for_small_samples(n, m, alpha):\n",
    "    mu = norm.ppf(1-alpha/2)\n",
    "    lower_limit = 1/(1+(mu**2)/n) * (m/n + mu**2 / (2*n) - mu * sqrt(m/n**2 * (1-m/n) + mu**2 / (4*n**2)))\n",
    "    upper_limit = 1/(1+(mu**2)/n) * (m/n + mu**2 / (2*n) + mu * sqrt(m/n**2 * (1-m/n) + mu**2 / (4*n**2)))\n",
    "    return lower_limit, upper_limit"
   ]
  },
  {
   "cell_type": "code",
   "execution_count": 33,
   "metadata": {},
   "outputs": [
    {
     "name": "stdout",
     "output_type": "stream",
     "text": [
      "P(0.191 <= P <= 0.438) = 0.95\n"
     ]
    }
   ],
   "source": [
    "lower_limit, upper_limit = get_bernoulli_intervals_for_small_samples(n, m, alpha)\n",
    "print(\"P({:.3f} <= P <= {:.3f}) = {}\".format(lower_limit, upper_limit, 1 -alpha))"
   ]
  },
  {
   "cell_type": "markdown",
   "metadata": {},
   "source": [
    "### Распределение Пуассона"
   ]
  },
  {
   "cell_type": "code",
   "execution_count": 34,
   "metadata": {},
   "outputs": [],
   "source": [
    "theta = 3\n",
    "n = 200\n",
    "poisson_sample = poisson.rvs(mu=theta, size=n)"
   ]
  },
  {
   "cell_type": "markdown",
   "metadata": {},
   "source": [
    "Доверительный интервал для $\\theta$\n",
    "\n",
    "$\\theta$ одновременно равняется мат. ожиданию и дисперсии"
   ]
  },
  {
   "cell_type": "code",
   "execution_count": 35,
   "metadata": {},
   "outputs": [
    {
     "name": "stdout",
     "output_type": "stream",
     "text": [
      "P(2.693 <= M <= 3.167) = 0.95\n"
     ]
    }
   ],
   "source": [
    "sample_M = poisson_sample.mean()\n",
    "mu = norm.ppf(1 - alpha / 2)\n",
    "\n",
    "lower_limit =  sample_M - mu * sqrt(sample_M / n)\n",
    "upper_limit =  sample_M + mu * sqrt(sample_M / n)\n",
    "\n",
    "print(\"P({:.3f} <= M <= {:.3f}) = {}\".format(lower_limit, upper_limit, 1 -alpha))"
   ]
  },
  {
   "cell_type": "markdown",
   "metadata": {},
   "source": [
    "### Экспоненциальное распределени"
   ]
  },
  {
   "cell_type": "code",
   "execution_count": 92,
   "metadata": {},
   "outputs": [],
   "source": [
    "lambda_param = 2\n",
    "n = 200\n",
    "exponential_sample = expon.rvs(scale=lambda_param, size=n)"
   ]
  },
  {
   "cell_type": "markdown",
   "metadata": {},
   "source": [
    "Доверительный интервал для параметра $\\lambda$"
   ]
  },
  {
   "cell_type": "code",
   "execution_count": 93,
   "metadata": {},
   "outputs": [
    {
     "name": "stdout",
     "output_type": "stream",
     "text": [
      "P(1.743 <= lambda <= 2.618) = 0.95\n"
     ]
    }
   ],
   "source": [
    "sample_M = exponential_sample.mean()\n",
    "mu = norm.ppf(alpha / 2)\n",
    "\n",
    "lower_limit =  1/sample_M - mu/sqrt(n*sample_M)\n",
    "upper_limit =  1/sample_M + mu/sqrt(n*sample_M)\n",
    "\n",
    "print(\"P({:.3f} <= lambda <= {:.3f}) = {}\".format(1/lower_limit, 1/upper_limit, 1 -alpha))"
   ]
  },
  {
   "cell_type": "markdown",
   "metadata": {},
   "source": [
    "## Часть 2. Ядерные оценки\n",
    "\n",
    "Построить ядерную оценку для `N(3, 5)` с прямоугольным и гауссовским ядром (за h принять $h_{opt}$). То же самое сделать для `uniform[3, 5]`"
   ]
  },
  {
   "cell_type": "code",
   "execution_count": 94,
   "metadata": {},
   "outputs": [],
   "source": [
    "from numpy import exp, pi"
   ]
  },
  {
   "cell_type": "code",
   "execution_count": 95,
   "metadata": {},
   "outputs": [],
   "source": [
    "def fixed_variance(sample, n):\n",
    "    sample_variance = sample.var()\n",
    "    return n/(n-1)*sample_variance"
   ]
  },
  {
   "cell_type": "code",
   "execution_count": 96,
   "metadata": {},
   "outputs": [],
   "source": [
    "def gaussian_kernel(x):\n",
    "    return exp(-x**2 / 2) / sqrt(2*pi)"
   ]
  },
  {
   "cell_type": "code",
   "execution_count": 97,
   "metadata": {},
   "outputs": [],
   "source": [
    "def uniform_kernel(x):\n",
    "    return (abs(x) <= 1)*0.5"
   ]
  },
  {
   "cell_type": "markdown",
   "metadata": {},
   "source": [
    "`f_hat` - ядерный оценщик плотности"
   ]
  },
  {
   "cell_type": "code",
   "execution_count": 98,
   "metadata": {},
   "outputs": [],
   "source": [
    "def f_hat(sample, h, x, kernel):\n",
    "    result = 0\n",
    "    for element in sample:\n",
    "        result += kernel((x - element) / h)\n",
    "    result /= len(sample)*h\n",
    "    return result"
   ]
  },
  {
   "cell_type": "code",
   "execution_count": 99,
   "metadata": {},
   "outputs": [],
   "source": [
    "def f_hat_gaussian(sample, h, x):\n",
    "    return f_hat(sample, h, x, gaussian_kernel)"
   ]
  },
  {
   "cell_type": "code",
   "execution_count": 100,
   "metadata": {},
   "outputs": [],
   "source": [
    "def f_hat_uniform(sample, h, x):\n",
    "    return f_hat(sample, h, x, uniform_kernel)"
   ]
  },
  {
   "cell_type": "code",
   "execution_count": 221,
   "metadata": {},
   "outputs": [],
   "source": [
    "def plot_hist_from_sample(sample, bins = 10, label = None, width=1.4):\n",
    "    hist, bin_edges = np.histogram(sample, bins=bins)\n",
    "    hist = hist/len(sample)\n",
    "    for i in range(len(hist)):\n",
    "        hist[i] = hist[i]/(bin_edges[i+1] - bin_edges[i])\n",
    "    bin_centers = (bin_edges[:-1] + bin_edges[1:]) / 2.\n",
    "    plt.bar(bin_centers, hist, width=width,label=label)"
   ]
  },
  {
   "cell_type": "markdown",
   "metadata": {},
   "source": [
    "## Нормальное распределение"
   ]
  },
  {
   "cell_type": "code",
   "execution_count": 295,
   "metadata": {},
   "outputs": [],
   "source": [
    "mean = 3\n",
    "std_dev = 5\n",
    "n = 500\n",
    "normal_sample = norm.rvs(loc=mean, scale=std_dev, size=n)"
   ]
  },
  {
   "cell_type": "code",
   "execution_count": 296,
   "metadata": {},
   "outputs": [
    {
     "data": {
      "text/plain": [
       "array([ 8.14700817e+00, -3.53083466e-01,  8.16655917e+00,  2.32686096e+00,\n",
       "        5.95343464e+00,  4.54664307e+00,  2.99141326e+00,  1.08796501e+01,\n",
       "        1.94558309e-01, -5.75299346e+00,  1.51550182e+00,  4.10527929e-01,\n",
       "        2.38654414e+00, -3.72153293e-01, -6.36180683e+00,  2.51282211e+00,\n",
       "        8.66355060e+00,  2.73722872e+00,  9.07481586e+00,  3.95964779e+00,\n",
       "       -5.11446545e+00, -5.38041644e+00,  5.65036608e+00,  1.30007691e+01,\n",
       "        5.87771576e+00,  6.83121596e-02,  4.34020804e+00,  1.14299283e+00,\n",
       "        2.46113453e+00,  6.94953662e+00,  1.59947478e+00,  2.91160847e+00,\n",
       "        2.35772549e+00,  1.64775007e+00,  1.14114971e+01,  4.62942759e+00,\n",
       "        3.49798842e+00,  3.70719898e+00,  1.12373610e+01,  6.19049568e+00,\n",
       "       -2.03424840e+00,  2.93320109e+00, -9.99417960e-01,  5.35205322e+00,\n",
       "        8.70366607e+00, -4.10893584e-01,  9.28550515e-01,  7.47855651e+00,\n",
       "        5.09333145e+00,  2.19729194e+01,  4.14834588e+00, -1.33184108e+00,\n",
       "        1.88967390e+00,  8.77005084e+00,  1.46633622e+01,  1.02779233e+01,\n",
       "        2.53949396e+00,  4.08855306e+00,  6.13067476e+00, -1.30892886e+00,\n",
       "       -1.10792318e+00, -3.08905025e-01,  8.59094787e+00,  5.97192549e+00,\n",
       "        3.29029441e+00, -1.29505659e+00, -8.11780658e+00,  9.07986648e+00,\n",
       "       -7.56217625e-03,  4.53192302e+00,  1.86138618e+00, -5.31201595e+00,\n",
       "        3.00784249e+00, -1.35244998e+00, -4.87834928e+00,  7.58632424e+00,\n",
       "        2.23309956e-01,  8.37084907e+00,  2.96797053e+00,  7.54098175e+00,\n",
       "       -2.41262074e+00, -1.05265482e+00,  3.61700040e+00,  8.30437308e-01,\n",
       "       -1.07600249e-01,  1.35572134e+01,  8.38144020e+00,  9.04495204e+00,\n",
       "        6.64676101e+00,  2.56186416e+00,  1.08935068e+01,  2.33696486e+00,\n",
       "        1.71267036e+00, -7.48449862e+00,  8.50525190e+00, -7.11862634e+00,\n",
       "        1.69512982e+00, -1.51563879e+00, -3.15886016e-01,  1.19131527e+00,\n",
       "        5.62330402e+00,  1.08494188e+00, -3.53276446e+00,  5.63881949e+00,\n",
       "        5.34685504e+00,  1.12424904e+01, -1.80073598e+00, -1.52765478e+00,\n",
       "        3.69821744e-01,  8.95171060e+00, -8.26067038e+00, -4.68732227e+00,\n",
       "        5.92158828e+00,  1.03363726e+00, -2.22594773e+00,  7.38830429e+00,\n",
       "        1.90456695e+00, -3.37558982e+00,  1.19965259e+01,  1.00840195e+01,\n",
       "        8.12056453e+00,  6.63897675e+00, -5.62689535e-01,  5.89940206e+00,\n",
       "        1.02805446e+01,  6.20537055e+00, -5.77507702e+00,  2.96922920e+00,\n",
       "        3.11421248e+00,  4.07418280e+00,  4.23799444e+00, -6.04131398e+00,\n",
       "        4.62734125e+00,  7.27790223e+00,  5.24202330e-01,  2.82353079e+00,\n",
       "        4.48355454e+00,  5.66779817e+00, -4.93742747e+00,  2.69176855e+00,\n",
       "        1.67375637e+00, -3.76592843e+00,  6.60416861e+00,  1.23157509e+00,\n",
       "        3.17347146e+00,  6.64455167e+00,  9.95894227e+00,  1.14916552e+01,\n",
       "       -9.65266115e-01,  4.55435045e+00,  9.78837369e+00,  6.72302596e+00,\n",
       "        9.10508078e-01,  1.42710483e+00,  2.09550741e+00,  8.78037217e+00,\n",
       "        3.37898079e+00,  5.32318327e+00,  4.65235705e+00, -8.42037399e+00,\n",
       "        2.25919036e+00,  2.51075218e+00,  2.92141503e+00,  1.28316245e+00,\n",
       "        3.17198279e+00, -2.41139187e+00,  7.16869674e-01, -1.87805051e+00,\n",
       "       -7.18220960e+00,  2.68903062e+00, -4.22693745e+00,  3.63215307e-01,\n",
       "        2.49642409e+00,  3.09230076e-01, -2.19206851e+00,  6.54973034e+00,\n",
       "       -1.40269677e+00,  1.20097632e+01,  7.64939131e+00, -6.61294056e+00,\n",
       "        3.18058956e+00,  1.30021905e+01,  3.81765671e+00,  1.40358157e+01,\n",
       "       -1.16437673e+01,  1.10232170e-01,  5.93938789e+00,  2.23078281e+00,\n",
       "        9.49133427e+00,  7.24345099e+00,  9.62204885e+00,  6.44018800e+00,\n",
       "        3.93433872e-01,  3.41035750e+00,  6.33447874e+00,  5.96690340e+00,\n",
       "        8.86942164e+00,  1.97148360e+00, -1.96187989e+00,  1.21103179e+01,\n",
       "        5.19588134e+00, -4.36409350e+00, -2.31172028e+00,  3.50596151e+00,\n",
       "        7.86890006e+00, -2.32355386e+00,  4.20911408e+00,  8.66715091e+00,\n",
       "        1.56219479e+00,  6.64782899e+00, -3.36178684e-01, -3.58081623e+00,\n",
       "        2.87724290e+00,  7.64467523e-01,  5.28326130e-01,  2.69904727e-01,\n",
       "        8.22041031e+00, -1.18446929e+00,  3.04891626e-01,  2.91883525e+00,\n",
       "        3.55291343e+00,  8.50566146e+00,  3.75123150e+00,  3.96491481e+00,\n",
       "       -1.11746710e+00,  8.14504473e+00,  6.16509204e+00,  4.14127734e+00,\n",
       "        5.90098565e+00,  9.96663739e+00, -4.60591318e+00,  3.98676664e+00,\n",
       "        1.60314930e+00,  8.05446728e+00, -5.34175190e+00,  2.05069738e-01,\n",
       "        1.26266547e+01,  1.99241456e+00,  1.36604571e+01, -2.01472571e+00,\n",
       "       -1.41840002e+00, -9.94875558e+00, -1.58788586e+00,  2.94712678e+00,\n",
       "       -2.03034595e+00,  2.22352728e+00,  4.38267413e+00,  2.81908135e+00,\n",
       "        8.61603056e+00, -1.73395294e+00,  3.96096711e+00, -4.50647742e-01,\n",
       "        5.12565977e+00,  3.17248712e+00,  3.98922894e+00,  1.13914721e+00,\n",
       "       -8.34573470e+00, -2.24293824e+00,  5.69287533e+00, -4.20714769e+00,\n",
       "        4.39377107e+00, -3.95496734e+00, -5.51716901e-01,  5.94559018e+00,\n",
       "       -1.98269975e+00, -2.75373880e-01,  2.28235865e+00,  1.22336183e+00,\n",
       "        1.07212639e+01,  2.75887532e+00,  4.70216950e+00, -3.83435877e+00,\n",
       "        3.36758971e+00,  3.58070427e+00,  3.86176242e-01,  1.14178905e+00,\n",
       "       -3.20360528e+00,  6.97164287e+00,  3.42459341e+00,  8.90091327e+00,\n",
       "       -1.16015498e+00,  1.26907985e+01,  5.01860770e+00,  5.53793363e+00,\n",
       "        2.80974205e+00, -1.16493049e+00,  2.69833803e-01, -2.70258688e+00,\n",
       "        5.05471263e+00,  2.83993202e+00,  1.15663671e+01,  2.31815208e+00,\n",
       "       -1.69528901e+00,  4.69353868e+00,  1.01527544e+01,  3.71031741e-01,\n",
       "       -3.86680723e+00,  8.33370613e+00,  2.41121795e+00,  7.94860234e+00,\n",
       "       -8.41967297e+00,  5.52301885e-01,  2.04689526e+00,  7.57704231e-01,\n",
       "       -3.68983167e+00,  9.34073153e+00, -1.33024211e+00,  1.56367004e+00,\n",
       "        4.98140096e+00,  2.77363770e+00,  1.30658745e+00,  1.04729031e+01,\n",
       "       -2.79061631e+00, -1.78333402e+00, -1.49504773e+01,  2.77808432e+00,\n",
       "        4.02885947e+00,  1.20263200e+01,  4.90858000e+00, -8.82388199e-01,\n",
       "        3.13220016e-02,  6.30067753e+00,  5.65577042e+00, -1.74703510e+00,\n",
       "        6.47679037e-01,  5.05958496e+00, -9.58218459e+00,  1.13361676e+00,\n",
       "        5.29897691e+00,  4.21290843e+00,  4.30240861e+00,  3.19448251e+00,\n",
       "        4.18875092e+00, -6.27481429e+00,  6.19008552e+00,  7.07182077e+00,\n",
       "        5.61156494e+00,  2.69608357e+00,  7.19742192e+00,  4.24878347e+00,\n",
       "       -8.66927400e+00,  6.89298067e+00,  4.71168491e+00, -5.56531464e+00,\n",
       "       -1.49172475e-01,  2.37362708e+00,  5.75914773e+00,  7.59644441e+00,\n",
       "       -1.38822124e+00,  1.37483993e+01, -2.03700961e-01,  4.72491981e+00,\n",
       "        4.78981153e+00,  7.07018768e+00, -1.82269072e-01, -9.13791928e-01,\n",
       "        6.08475320e+00,  8.83658992e-01,  2.65663918e+00,  3.47596979e+00,\n",
       "        3.69138631e+00,  7.08490008e-01,  1.17375000e+01,  9.63713701e+00,\n",
       "        4.94439075e+00,  1.52810835e+01, -5.84556995e-01,  2.99801392e+00,\n",
       "       -2.37864502e+00,  7.51111590e+00, -1.73933767e+00,  2.86870969e+00,\n",
       "        1.77757697e+00,  6.05221102e-01, -1.80603032e+00,  4.00972010e+00,\n",
       "       -5.61511181e+00,  1.03453828e+01,  9.28196805e+00,  1.08924139e+01,\n",
       "        1.85980577e+00, -1.23817259e+00,  1.76689157e+00,  2.58071261e+00,\n",
       "        1.19361140e+00,  4.14460013e+00,  1.32886619e+01,  5.65254239e+00,\n",
       "       -7.17607710e-01,  6.73564316e+00, -1.96311952e+00, -1.05676515e+00,\n",
       "        4.51097197e+00, -2.72183843e+00,  1.45804605e-01,  4.43868164e+00,\n",
       "        2.27755031e+00,  6.11572993e+00,  2.83199408e+00, -5.22218309e+00,\n",
       "        4.14247179e+00, -2.97775276e-01,  8.17937228e+00,  1.10498103e+00,\n",
       "        1.76240606e+00,  7.93887724e+00, -1.49599320e-01,  7.66481848e+00,\n",
       "       -2.50915514e+00,  3.27082700e+00,  5.78283466e+00,  3.14469303e+00,\n",
       "        5.68810873e-01,  9.47548565e+00,  8.17068280e+00,  3.39385391e-02,\n",
       "       -2.57534582e+00,  7.17415438e+00,  2.95502246e+00, -1.15129326e+00,\n",
       "        1.80030931e+00,  7.33397175e+00,  7.01146011e+00,  1.39649920e+00,\n",
       "        7.53665885e+00,  7.81350656e+00,  1.02824843e+01, -7.12830754e+00,\n",
       "        9.22450490e+00, -3.71397436e+00,  7.39324205e-01,  1.97440365e+00,\n",
       "        5.64945675e+00,  6.95181554e-01,  2.46989862e+00, -7.62768656e-01,\n",
       "       -1.38507072e+01,  5.29779461e+00,  2.85820603e+00,  6.58036903e+00,\n",
       "        1.36135289e+00,  2.30839325e+00,  8.24450129e+00, -8.80590843e+00,\n",
       "        4.08915819e+00,  4.80605936e-01,  5.67087320e+00,  3.46087638e+00,\n",
       "        9.82922025e+00,  5.76933981e+00,  3.35524973e+00,  1.41295880e+01,\n",
       "        2.53057427e+00,  8.32697516e+00,  1.22520010e+01, -7.54396787e-01,\n",
       "        1.22705391e-01,  2.32594604e+00,  3.35915140e+00,  4.70200661e+00,\n",
       "        4.22421702e+00,  6.09827868e+00,  4.27549225e+00,  8.44089517e+00,\n",
       "        2.20662507e+00,  7.20750709e+00,  6.91607157e+00, -2.28868369e+00,\n",
       "       -4.43814964e+00,  4.55940486e+00, -4.49670772e-01,  3.65607483e+00,\n",
       "       -8.22053724e-01,  2.91778796e+00,  5.07089885e+00, -3.72928569e+00,\n",
       "        2.00810837e+00,  1.80569418e+00,  3.58124247e+00,  4.43576474e+00,\n",
       "        3.14387087e+00,  7.61983415e+00,  9.30623476e-01, -4.11293438e+00,\n",
       "        2.69522767e+00,  5.98676433e+00, -3.76671239e+00, -7.10411447e+00,\n",
       "       -3.94530937e+00,  3.83821288e+00,  4.96518779e-01,  3.67810292e-01,\n",
       "        7.33002784e-01,  4.36191088e+00,  1.26315394e+01,  4.61009941e+00,\n",
       "        1.06999142e+01, -3.43988511e+00,  1.10366221e+01, -6.31267876e+00])"
      ]
     },
     "execution_count": 296,
     "metadata": {},
     "output_type": "execute_result"
    }
   ],
   "source": [
    "normal_sample"
   ]
  },
  {
   "cell_type": "code",
   "execution_count": 243,
   "metadata": {},
   "outputs": [],
   "source": [
    "sample_fixed_variance = fixed_variance(normal_sample, n)\n",
    "h_opt = 1.05 * sqrt(sample_fixed_variance) / n**(1/5)"
   ]
  },
  {
   "cell_type": "code",
   "execution_count": 244,
   "metadata": {},
   "outputs": [],
   "source": [
    "from numpy import linspace"
   ]
  },
  {
   "cell_type": "code",
   "execution_count": 245,
   "metadata": {},
   "outputs": [],
   "source": [
    "x_linspace = linspace(-20, 20, 100)"
   ]
  },
  {
   "cell_type": "code",
   "execution_count": 246,
   "metadata": {},
   "outputs": [],
   "source": [
    "normal_with_uniform_kernel = f_hat_uniform(normal_sample, h_opt, x_linspace)\n",
    "normal_with_gaussian_kernel = f_hat_gaussian(normal_sample, h_opt, x_linspace)"
   ]
  },
  {
   "cell_type": "code",
   "execution_count": 247,
   "metadata": {},
   "outputs": [
    {
     "data": {
      "text/plain": [
       "[]"
      ]
     },
     "execution_count": 247,
     "metadata": {},
     "output_type": "execute_result"
    },
    {
     "data": {
      "image/png": "[encoded data removed]",
      "text/plain": [
       "<Figure size 600x400 with 1 Axes>"
      ]
     },
     "metadata": {},
     "output_type": "display_data"
    }
   ],
   "source": [
    "fig = plt.figure(figsize=(6,4))\n",
    "plt.title('Гистограммы')\n",
    "plot_hist_from_sample(normal_sample, 20, label='N(3,5)', width=1.2)\n",
    "plt.plot(x_linspace, normal_with_uniform_kernel, 'r', label='С прямоугольным ядром')\n",
    "plt.plot(x_linspace, normal_with_gaussian_kernel, 'g', label='С гауссовским ядром')\n",
    "fig.legend()\n",
    "plt.plot()"
   ]
  },
  {
   "cell_type": "code",
   "execution_count": 248,
   "metadata": {},
   "outputs": [
    {
     "data": {
      "text/plain": [
       "0.06387765328522942"
      ]
     },
     "execution_count": 248,
     "metadata": {},
     "output_type": "execute_result"
    }
   ],
   "source": [
    "normal_with_gaussian_kernel[len(normal_with_gaussian_kernel)//2]"
   ]
  },
  {
   "cell_type": "markdown",
   "metadata": {},
   "source": [
    "## Равномерное распределение"
   ]
  },
  {
   "cell_type": "code",
   "execution_count": 249,
   "metadata": {},
   "outputs": [],
   "source": [
    "from scipy.stats import uniform"
   ]
  },
  {
   "cell_type": "code",
   "execution_count": 250,
   "metadata": {},
   "outputs": [],
   "source": [
    "n = 500\n",
    "min_value= 3\n",
    "width = 2\n",
    "uniform_sample = uniform.rvs(loc=min_value, scale=width, size=n)"
   ]
  },
  {
   "cell_type": "code",
   "execution_count": 251,
   "metadata": {},
   "outputs": [],
   "source": [
    "sample_fixed_variance = fixed_variance(uniform_sample, n)\n",
    "h_opt = 1.05 * sample_fixed_variance / n**(1/5)"
   ]
  },
  {
   "cell_type": "code",
   "execution_count": 252,
   "metadata": {},
   "outputs": [],
   "source": [
    "from numpy import linspace"
   ]
  },
  {
   "cell_type": "code",
   "execution_count": 292,
   "metadata": {},
   "outputs": [],
   "source": [
    "x_linspace = linspace(-5, 7, 100)"
   ]
  },
  {
   "cell_type": "code",
   "execution_count": 293,
   "metadata": {},
   "outputs": [],
   "source": [
    "uniform_with_uniform_kernel = f_hat_uniform(uniform_sample, h_opt, x_linspace)\n",
    "uniform_with_gaussian_kernel = f_hat_gaussian(uniform_sample, h_opt, x_linspace)"
   ]
  },
  {
   "cell_type": "code",
   "execution_count": 294,
   "metadata": {},
   "outputs": [
    {
     "data": {
      "text/plain": [
       "[]"
      ]
     },
     "execution_count": 294,
     "metadata": {},
     "output_type": "execute_result"
    },
    {
     "data": {
      "image/png": "[encoded data removed]",
      "text/plain": [
       "<Figure size 600x400 with 1 Axes>"
      ]
     },
     "metadata": {},
     "output_type": "display_data"
    }
   ],
   "source": [
    "fig = plt.figure(figsize=(6,4))\n",
    "plt.title('Гистограммы')\n",
    "plot_hist_from_sample(uniform_sample, 2, label='uniform(3,5)', width=1)\n",
    "plt.plot(x_linspace, uniform_with_uniform_kernel, 'r', label='С прямоугольным ядром')\n",
    "plt.plot(x_linspace, uniform_with_gaussian_kernel, 'g', label='С гауссовским ядром')\n",
    "fig.legend()\n",
    "plt.plot()"
   ]
  },
  {
   "cell_type": "code",
   "execution_count": null,
   "metadata": {},
   "outputs": [],
   "source": []
  }
 ],
 "metadata": {
  "kernelspec": {
   "display_name": "Python 3",
   "language": "python",
   "name": "python3"
  },
  "language_info": {
   "codemirror_mode": {
    "name": "ipython",
    "version": 3
   },
   "file_extension": ".py",
   "mimetype": "text/x-python",
   "name": "python",
   "nbconvert_exporter": "python",
   "pygments_lexer": "ipython3",
   "version": "3.10.12"
  }
 },
 "nbformat": 4,
 "nbformat_minor": 2
}
