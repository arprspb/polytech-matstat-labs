{
 "cells": [
  {
   "cell_type": "markdown",
   "metadata": {},
   "source": [
    "# Лабораторная №1\n",
    "\n",
    "## Задание\n",
    "  1) Сгенерировать выборки для разных распределений и посчитать доверительные интервалы для них. Распределения: нормальное, бернулли, пуассона, экспоненциальное.\n",
    "  2) Построить ядерную оценку для `N(3, 5)` с прямоугольным и гауссовским ядром (за h принять $h_{opt}$). То же самое сделать для `uniform[3, 5]`"
   ]
  },
  {
   "cell_type": "code",
   "execution_count": 31,
   "metadata": {},
   "outputs": [],
   "source": [
    "import matplotlib.pyplot as plt\n",
    "import numpy as np"
   ]
  },
  {
   "cell_type": "markdown",
   "metadata": {},
   "source": [
    "# Решение\n",
    "## Часть 1. Генерация выборок и доверительные интервалы\n",
    "\n",
    "Сгенерировать выборки для разных распределений и посчитать доверительные интервалы для них. Распределения: нормальное, бернулли, пуассона, экспоненциальное."
   ]
  },
  {
   "cell_type": "code",
   "execution_count": 7,
   "metadata": {},
   "outputs": [],
   "source": [
    "from scipy.stats import bernoulli, poisson, norm, expon\n",
    "from scipy.stats import t, chi2\n",
    "from numpy import sqrt"
   ]
  },
  {
   "cell_type": "code",
   "execution_count": 178,
   "metadata": {},
   "outputs": [],
   "source": [
    "alpha = 0.05"
   ]
  },
  {
   "cell_type": "markdown",
   "metadata": {},
   "source": [
    "### Нормальное распределение"
   ]
  },
  {
   "cell_type": "markdown",
   "metadata": {},
   "source": [
    "Выборку генерировать размера $n = 200$\n",
    "\n",
    "За k принять $k = [log_2200] + 1 \\approx 8$"
   ]
  },
  {
   "cell_type": "code",
   "execution_count": 179,
   "metadata": {},
   "outputs": [],
   "source": [
    "mean = 0\n",
    "std_dev = 1\n",
    "n = 200\n",
    "normal_sample = norm.rvs(loc=mean, scale=std_dev, size=n)"
   ]
  },
  {
   "cell_type": "code",
   "execution_count": 180,
   "metadata": {},
   "outputs": [
    {
     "data": {
      "image/png": "[encoded data removed]",
      "text/plain": [
       "<Figure size 300x200 with 1 Axes>"
      ]
     },
     "metadata": {},
     "output_type": "display_data"
    }
   ],
   "source": [
    "plt.figure(figsize=(3, 2))\n",
    "plt.hist(normal_sample, bins=20)\n",
    "plt.show()"
   ]
  },
  {
   "cell_type": "markdown",
   "metadata": {},
   "source": [
    "#### Доверительный интервал для M"
   ]
  },
  {
   "cell_type": "code",
   "execution_count": 397,
   "metadata": {},
   "outputs": [],
   "source": [
    "sample_std  = normal_sample.std()\n",
    "sample_M = normal_sample.mean()"
   ]
  },
  {
   "cell_type": "code",
   "execution_count": 398,
   "metadata": {},
   "outputs": [],
   "source": [
    "t_quantile = t.ppf(1 - alpha / 2, n - 1)"
   ]
  },
  {
   "cell_type": "code",
   "execution_count": 399,
   "metadata": {},
   "outputs": [],
   "source": [
    "left_M =  sample_M - t_quantile  * sample_std / sqrt(n)\n",
    "right_M =  sample_M + t_quantile * sample_std / sqrt(n)"
   ]
  },
  {
   "cell_type": "code",
   "execution_count": 400,
   "metadata": {},
   "outputs": [
    {
     "data": {
      "image/png": "[encoded data removed]",
      "text/plain": [
       "<Figure size 300x200 with 1 Axes>"
      ]
     },
     "metadata": {},
     "output_type": "display_data"
    },
    {
     "name": "stdout",
     "output_type": "stream",
     "text": [
      "P(-0.009 <= M <= 0.280) = 0.95\n"
     ]
    }
   ],
   "source": [
    "plt.figure(figsize=(3, 2))\n",
    "hist_values = plt.hist(normal_sample, bins=20)[0]\n",
    "plt.vlines([left_M, right_M], ymin=0, ymax=max(hist_values), colors='red')\n",
    "plt.show()\n",
    "\n",
    "print(\"P({:.3f} <= M <= {:.3f}) = {}\".format(left_M, right_M, 1 -alpha))"
   ]
  },
  {
   "cell_type": "markdown",
   "metadata": {},
   "source": [
    "#### Доверительный интервал для $\\sigma^2$"
   ]
  },
  {
   "cell_type": "markdown",
   "metadata": {},
   "source": [
    "Рассчитываем критические значения хи-квадрат для нижней и верхней границ доверительного интервала"
   ]
  },
  {
   "cell_type": "code",
   "execution_count": 401,
   "metadata": {},
   "outputs": [],
   "source": [
    "lower_chi_square = chi2.ppf(1 - alpha / 2, n - 1)\n",
    "upper_chi_square = chi2.ppf(alpha / 2, n - 1)"
   ]
  },
  {
   "cell_type": "markdown",
   "metadata": {},
   "source": [
    "Рассчитываем интервал"
   ]
  },
  {
   "cell_type": "code",
   "execution_count": 197,
   "metadata": {},
   "outputs": [],
   "source": [
    "lower_limit = ((n - 1) / lower_chi_square) * sample_std**2\n",
    "upper_limit = ((n - 1) / upper_chi_square) * sample_std**2"
   ]
  },
  {
   "cell_type": "code",
   "execution_count": 198,
   "metadata": {},
   "outputs": [
    {
     "name": "stdout",
     "output_type": "stream",
     "text": [
      "P(0.886 <= sigma^2 <= 1.313) = 0.95\n"
     ]
    }
   ],
   "source": [
    "print(\"P({:.3f} <= sigma^2 <= {:.3f}) = {}\".format(lower_limit, upper_limit, 1 -alpha))"
   ]
  },
  {
   "cell_type": "markdown",
   "metadata": {},
   "source": [
    "### Распределение Бернулли"
   ]
  },
  {
   "cell_type": "code",
   "execution_count": 201,
   "metadata": {},
   "outputs": [],
   "source": [
    "p_param = 0.3\n",
    "n = 200\n",
    "bernoulli_sample = bernoulli.rvs(p=p_param, size=n)"
   ]
  },
  {
   "cell_type": "code",
   "execution_count": 226,
   "metadata": {},
   "outputs": [],
   "source": [
    "def get_bernoulli_intervals(n, m, alpha):\n",
    "    mu = norm.ppf(1-alpha/2)\n",
    "    lower_limit = m/n - mu * sqrt(m * (1 - m/n) )/ n\n",
    "    upper_limit = m/n + mu * sqrt(m * (1 - m/n) )/ n\n",
    "    return lower_limit, upper_limit"
   ]
  },
  {
   "cell_type": "code",
   "execution_count": 234,
   "metadata": {},
   "outputs": [
    {
     "name": "stdout",
     "output_type": "stream",
     "text": [
      "P(0.236 <= P <= 0.364) = 0.95\n"
     ]
    }
   ],
   "source": [
    "m = 0.3*200\n",
    "lower_limit, upper_limit = get_bernoulli_intervals(n, m, alpha)\n",
    "print(\"P({:.3f} <= P <= {:.3f}) = {}\".format(lower_limit, upper_limit, 1 -alpha))"
   ]
  },
  {
   "cell_type": "markdown",
   "metadata": {},
   "source": [
    "Определение доверительного интервала для распределения Бернулли при малых размерах выборки"
   ]
  },
  {
   "cell_type": "code",
   "execution_count": 302,
   "metadata": {},
   "outputs": [],
   "source": [
    "p_param = 0.3\n",
    "n = 50\n",
    "m = 0.3*n\n",
    "bernoulli_sample = bernoulli.rvs(p=p_param, size=n)"
   ]
  },
  {
   "cell_type": "code",
   "execution_count": 303,
   "metadata": {},
   "outputs": [],
   "source": [
    "def get_bernoulli_intervals_for_small_samples(n, m, alpha):\n",
    "    mu = norm.ppf(1-alpha/2)\n",
    "    lower_limit = 1/(1+(mu**2)/n) * (m/n + mu**2 / (2*n) - mu * sqrt(m/n**2 * (1-m/n) + mu**2 / (4*n**2)))\n",
    "    upper_limit = 1/(1+(mu**2)/n) * (m/n + mu**2 / (2*n) + mu * sqrt(m/n**2 * (1-m/n) + mu**2 / (4*n**2)))\n",
    "    return lower_limit, upper_limit"
   ]
  },
  {
   "cell_type": "code",
   "execution_count": 304,
   "metadata": {},
   "outputs": [
    {
     "name": "stdout",
     "output_type": "stream",
     "text": [
      "P(0.191 <= P <= 0.438) = 0.95\n"
     ]
    }
   ],
   "source": [
    "lower_limit, upper_limit = get_bernoulli_intervals_for_small_samples(n, m, alpha)\n",
    "print(\"P({:.3f} <= P <= {:.3f}) = {}\".format(lower_limit, upper_limit, 1 -alpha))"
   ]
  },
  {
   "cell_type": "markdown",
   "metadata": {},
   "source": [
    "### Распределение Пуассона"
   ]
  },
  {
   "cell_type": "code",
   "execution_count": 331,
   "metadata": {},
   "outputs": [],
   "source": [
    "theta = 3\n",
    "n = 200\n",
    "poisson_sample = poisson.rvs(mu=theta, size=n)"
   ]
  },
  {
   "cell_type": "markdown",
   "metadata": {},
   "source": [
    "Доверительный интервал для $\\theta$\n",
    "\n",
    "$\\theta$ одновременно равняется мат. ожиданию и дисперсии"
   ]
  },
  {
   "cell_type": "code",
   "execution_count": 332,
   "metadata": {},
   "outputs": [
    {
     "name": "stdout",
     "output_type": "stream",
     "text": [
      "P(2.669 <= M <= 3.141) = 0.95\n"
     ]
    }
   ],
   "source": [
    "sample_M = poisson_sample.mean()\n",
    "mu = norm.ppf(1 - alpha / 2)\n",
    "\n",
    "lower_limit =  sample_M - mu * sqrt(sample_M / n)\n",
    "upper_limit =  sample_M + mu * sqrt(sample_M / n)\n",
    "\n",
    "print(\"P({:.3f} <= M <= {:.3f}) = {}\".format(lower_limit, upper_limit, 1 -alpha))"
   ]
  },
  {
   "cell_type": "markdown",
   "metadata": {},
   "source": [
    "### Экспоненциальное распределени"
   ]
  },
  {
   "cell_type": "code",
   "execution_count": 380,
   "metadata": {},
   "outputs": [],
   "source": [
    "lambda_param = 2\n",
    "n = 200\n",
    "exponential_sample = expon.rvs(scale=lambda_param, size=n)"
   ]
  },
  {
   "cell_type": "markdown",
   "metadata": {},
   "source": [
    "Доверительный интервал для параметра $\\lambda$"
   ]
  },
  {
   "cell_type": "code",
   "execution_count": 381,
   "metadata": {},
   "outputs": [
    {
     "name": "stdout",
     "output_type": "stream",
     "text": [
      "P(1.678 <= lambda <= 2.499) = 0.95\n"
     ]
    }
   ],
   "source": [
    "sample_M = exponential_sample.mean()\n",
    "mu = norm.ppf(alpha / 2)\n",
    "\n",
    "lower_limit =  1/sample_M - mu/sqrt(n*sample_M)\n",
    "upper_limit =  1/sample_M + mu/sqrt(n*sample_M)\n",
    "\n",
    "print(\"P({:.3f} <= lambda <= {:.3f}) = {}\".format(1/lower_limit, 1/upper_limit, 1 -alpha))"
   ]
  },
  {
   "cell_type": "markdown",
   "metadata": {},
   "source": [
    "## Часть 2. Ядерные оценки\n",
    "\n",
    "Построить ядерную оценку для `N(3, 5)` с прямоугольным и гауссовским ядром (за h принять $h_{opt}$). То же самое сделать для `uniform[3, 5]`"
   ]
  },
  {
   "cell_type": "code",
   "execution_count": 73,
   "metadata": {},
   "outputs": [],
   "source": [
    "from numpy import exp, pi"
   ]
  },
  {
   "cell_type": "code",
   "execution_count": 74,
   "metadata": {},
   "outputs": [],
   "source": [
    "def fixed_variance(sample, n):\n",
    "    sample_variance = sample.var()\n",
    "    return n/(n-1)*sample_variance"
   ]
  },
  {
   "cell_type": "code",
   "execution_count": 75,
   "metadata": {},
   "outputs": [],
   "source": [
    "def gaussian_kernel(x):\n",
    "    return exp(-x**2 / 2) / sqrt(2*pi)"
   ]
  },
  {
   "cell_type": "code",
   "execution_count": 76,
   "metadata": {},
   "outputs": [],
   "source": [
    "def uniform_kernel(x):\n",
    "    return (abs(x) <= 1)*0.5"
   ]
  },
  {
   "cell_type": "markdown",
   "metadata": {},
   "source": [
    "`f_hat` - ядерный оценщик плотности"
   ]
  },
  {
   "cell_type": "code",
   "execution_count": 77,
   "metadata": {},
   "outputs": [],
   "source": [
    "def f_hat(sample, h, x, kernel):\n",
    "    result = 0\n",
    "    for element in sample:\n",
    "        result += kernel((x - element) / h)\n",
    "    result /= len(sample)*h\n",
    "    return result"
   ]
  },
  {
   "cell_type": "code",
   "execution_count": 78,
   "metadata": {},
   "outputs": [],
   "source": [
    "def f_hat_gaussian(sample, h, x):\n",
    "    return f_hat(sample, h, x, gaussian_kernel)"
   ]
  },
  {
   "cell_type": "code",
   "execution_count": 79,
   "metadata": {},
   "outputs": [],
   "source": [
    "def f_hat_uniform(sample, h, x):\n",
    "    return f_hat(sample, h, x, uniform_kernel)"
   ]
  },
  {
   "cell_type": "code",
   "execution_count": 331,
   "metadata": {},
   "outputs": [],
   "source": [
    "def plot_hist_from_sample(sample, bins = 10, label = None):\n",
    "    hist, bin_edges = np.histogram(normal_sample, bins=bins)\n",
    "    hist = hist/len(normal_sample)\n",
    "    bin_centers = (bin_edges[:-1] + bin_edges[1:]) / 2.\n",
    "    plt.bar(bin_centers, hist, label=label)"
   ]
  },
  {
   "cell_type": "markdown",
   "metadata": {},
   "source": [
    "## Нормальное распределение"
   ]
  },
  {
   "cell_type": "code",
   "execution_count": 332,
   "metadata": {},
   "outputs": [],
   "source": [
    "mean = 3\n",
    "std_dev = 5\n",
    "n = 200\n",
    "normal_sample = norm.rvs(loc=mean, scale=std_dev, size=n)"
   ]
  },
  {
   "cell_type": "code",
   "execution_count": 333,
   "metadata": {},
   "outputs": [],
   "source": [
    "sample_fixed_variance = fixed_variance(normal_sample, n)\n",
    "h_opt = 1.05 * sample_fixed_variance / n**(1/5)"
   ]
  },
  {
   "cell_type": "code",
   "execution_count": 334,
   "metadata": {},
   "outputs": [],
   "source": [
    "from numpy import linspace"
   ]
  },
  {
   "cell_type": "code",
   "execution_count": 335,
   "metadata": {},
   "outputs": [],
   "source": [
    "x_linspace = linspace(-20, 20, 50)"
   ]
  },
  {
   "cell_type": "code",
   "execution_count": 336,
   "metadata": {},
   "outputs": [],
   "source": [
    "normal_with_uniform_kernel = f_hat_uniform(normal_sample, h_opt, x_linspace)\n",
    "normal_with_gaussian_kernel = f_hat_gaussian(normal_sample, h_opt, x_linspace)"
   ]
  },
  {
   "cell_type": "code",
   "execution_count": 337,
   "metadata": {},
   "outputs": [
    {
     "data": {
      "text/plain": [
       "[]"
      ]
     },
     "execution_count": 337,
     "metadata": {},
     "output_type": "execute_result"
    },
    {
     "data": {
      "image/png": "[encoded data removed]",
      "text/plain": [
       "<Figure size 600x400 with 1 Axes>"
      ]
     },
     "metadata": {},
     "output_type": "display_data"
    }
   ],
   "source": [
    "fig = plt.figure(figsize=(6,4))\n",
    "plt.title('Гистограммы')\n",
    "plot_hist_from_sample(normal_sample, 15, label='N(3,5)')\n",
    "plt.plot(x_linspace, normal_with_uniform_kernel, 'r', label='С прямоугольным ядром')\n",
    "plt.plot(x_linspace, normal_with_gaussian_kernel, 'g', label='С гауссовским ядром')\n",
    "fig.legend()\n",
    "plt.plot()"
   ]
  },
  {
   "cell_type": "code",
   "execution_count": 338,
   "metadata": {},
   "outputs": [
    {
     "data": {
      "text/plain": [
       "0.035643320580955797"
      ]
     },
     "execution_count": 338,
     "metadata": {},
     "output_type": "execute_result"
    }
   ],
   "source": [
    "normal_with_gaussian_kernel[len(normal_with_gaussian_kernel)//2]"
   ]
  },
  {
   "cell_type": "markdown",
   "metadata": {},
   "source": [
    "## Равномерное распределение"
   ]
  },
  {
   "cell_type": "code",
   "execution_count": 339,
   "metadata": {},
   "outputs": [],
   "source": [
    "from scipy.stats import uniform"
   ]
  },
  {
   "cell_type": "code",
   "execution_count": 340,
   "metadata": {},
   "outputs": [],
   "source": [
    "n = 2000\n",
    "mean = 3\n",
    "std_dev = 5\n",
    "uniform_sample = uniform.rvs(loc=mean, scale=std_dev, size=n)"
   ]
  },
  {
   "cell_type": "code",
   "execution_count": 341,
   "metadata": {},
   "outputs": [],
   "source": [
    "sample_fixed_variance = fixed_variance(uniform_sample, n)\n",
    "h_opt = 1.05 * sample_fixed_variance / n**(1/5)"
   ]
  },
  {
   "cell_type": "code",
   "execution_count": 342,
   "metadata": {},
   "outputs": [],
   "source": [
    "from numpy import linspace"
   ]
  },
  {
   "cell_type": "code",
   "execution_count": 343,
   "metadata": {},
   "outputs": [],
   "source": [
    "x_linspace = linspace(-15, 20, 50)"
   ]
  },
  {
   "cell_type": "code",
   "execution_count": 344,
   "metadata": {},
   "outputs": [],
   "source": [
    "uniform_with_uniform_kernel = f_hat_uniform(uniform_sample, h_opt, x_linspace)\n",
    "uniform_with_gaussian_kernel = f_hat_gaussian(uniform_sample, h_opt, x_linspace)"
   ]
  },
  {
   "cell_type": "code",
   "execution_count": 345,
   "metadata": {},
   "outputs": [
    {
     "data": {
      "text/plain": [
       "[]"
      ]
     },
     "execution_count": 345,
     "metadata": {},
     "output_type": "execute_result"
    },
    {
     "data": {
      "image/png": "[encoded data removed]",
      "text/plain": [
       "<Figure size 600x400 with 1 Axes>"
      ]
     },
     "metadata": {},
     "output_type": "display_data"
    }
   ],
   "source": [
    "fig = plt.figure(figsize=(6,4))\n",
    "plt.title('Гистограммы')\n",
    "plot_hist_from_sample(uniform_sample, 15, label='N(3,5)')\n",
    "plt.plot(x_linspace, uniform_with_uniform_kernel, 'r', label='С прямоугольным ядром')\n",
    "plt.plot(x_linspace, uniform_with_gaussian_kernel, 'g', label='С гауссовским ядром')\n",
    "fig.legend()\n",
    "plt.plot()"
   ]
  },
  {
   "cell_type": "code",
   "execution_count": null,
   "metadata": {},
   "outputs": [],
   "source": []
  }
 ],
 "metadata": {
  "kernelspec": {
   "display_name": "Python 3",
   "language": "python",
   "name": "python3"
  },
  "language_info": {
   "codemirror_mode": {
    "name": "ipython",
    "version": 3
   },
   "file_extension": ".py",
   "mimetype": "text/x-python",
   "name": "python",
   "nbconvert_exporter": "python",
   "pygments_lexer": "ipython3",
   "version": "3.10.12"
  }
 },
 "nbformat": 4,
 "nbformat_minor": 2
}
